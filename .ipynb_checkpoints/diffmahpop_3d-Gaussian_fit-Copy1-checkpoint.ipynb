{
 "cells": [
  {
   "cell_type": "code",
   "execution_count": null,
   "id": "c8eb7cf0-535f-43d8-acfa-5d70d0dea399",
   "metadata": {},
   "outputs": [],
   "source": [
    "import numpy as np\n",
    "import matplotlib.cm as cm\n",
    "import matplotlib.pyplot as plt\n",
    "import diffmah\n",
    "from diffmah import mah_halopop, DEFAULT_MAH_PARAMS\n",
    "from diffmah.utils import get_cholesky_from_params\n",
    "import jax\n",
    "from jax import grad\n",
    "from jax import random\n",
    "import jax.numpy as jnp\n",
    "from jax import vmap \n",
    "from tqdm.autonotebook import tqdm\n",
    "from jax import jit as jjit\n",
    "from jax import nn\n",
    "import corner"
   ]
  },
  {
   "cell_type": "markdown",
   "id": "69f020c2-3c68-4278-b85e-0b2d30ebe1c2",
   "metadata": {},
   "source": [
    "#### Bounded to Unbounded transformations"
   ]
  },
  {
   "cell_type": "code",
   "execution_count": null,
   "id": "deb015b7-62af-4170-8e05-eaeacf26637d",
   "metadata": {},
   "outputs": [],
   "source": [
    "def get_u_beta_l(late):\n",
    "    return jnp.log(np.exp(late) - 1)\n",
    "\n",
    "def get_u_beta_e(late, early):\n",
    "    return jnp.log(np.exp(early-late) - 1)\n",
    "\n",
    "def get_u_x0(tc):\n",
    "    return jnp.log10(tc)\n",
    "    "
   ]
  },
  {
   "cell_type": "markdown",
   "id": "abac89a7-2536-48b0-8dcd-641a6ebf22d4",
   "metadata": {},
   "source": [
    "#### Unbounded to Bounded transformations"
   ]
  },
  {
   "cell_type": "code",
   "execution_count": null,
   "id": "25165163-565c-4839-9e82-ea5bb51626f4",
   "metadata": {},
   "outputs": [],
   "source": [
    "def get_late(u_beta_l):\n",
    "    return jnp.log(1 + jnp.exp(u_beta_l))\n",
    "\n",
    "def get_early(u_beta_l, u_beta_e):\n",
    "    return get_late(u_beta_l) + jnp.log(1 + jnp.exp(u_beta_e))\n",
    "\n",
    "def get_tc(u_x0):\n",
    "    return 10**u_x0\n",
    "    "
   ]
  },
  {
   "cell_type": "markdown",
   "id": "488b1342-4be8-4232-910b-505e9f0ae7cd",
   "metadata": {},
   "source": [
    "#### Define Fiducial model"
   ]
  },
  {
   "cell_type": "code",
   "execution_count": null,
   "id": "48a21bda-22e0-4be5-809f-b54c2c788b76",
   "metadata": {},
   "outputs": [],
   "source": [
    "tc_true    = 2\n",
    "early_true = 3\n",
    "late_true  = 2\n",
    "\n",
    "u_x0     = get_u_x0(tc_true)\n",
    "u_beta_l = get_u_beta_l(late_true)\n",
    "u_beta_e = get_u_beta_e(late_true, early_true)\n",
    "\n",
    "\n",
    "mu_true = jnp.array([u_x0, u_beta_e, u_beta_l])\n",
    "cov_true = jnp.array([[0.2,  0,    0],\n",
    "                      [0.04, 0.5,  0],\n",
    "                      [0.06, 0.08, 0.2]])"
   ]
  },
  {
   "cell_type": "code",
   "execution_count": null,
   "id": "b6829542-3cd1-4af0-928d-cd7cf20a9a2f",
   "metadata": {},
   "outputs": [],
   "source": [
    "cov_true"
   ]
  },
  {
   "cell_type": "code",
   "execution_count": null,
   "id": "ca896480-b2da-4013-b4c3-019d01622d42",
   "metadata": {},
   "outputs": [],
   "source": [
    "L = jnp.linalg.cholesky(cov_true)"
   ]
  },
  {
   "cell_type": "code",
   "execution_count": null,
   "id": "a1f3ab0b-9fcd-44e6-a1e6-4b19c937c421",
   "metadata": {},
   "outputs": [],
   "source": [
    "L @ L.T"
   ]
  },
  {
   "cell_type": "code",
   "execution_count": null,
   "id": "4ea48c43-3ffa-49fd-ab4f-edef114e588f",
   "metadata": {},
   "outputs": [],
   "source": [
    "@jjit\n",
    "def logpdf_cholesky(x, mu, L):\n",
    "    diff = x - mu\n",
    "    z = jnp.linalg.solve(L, diff)\n",
    "    quad = jnp.dot(z, z)\n",
    "    log_det = jnp.sum(jnp.log(jnp.diag(L)))\n",
    "    log_norm = 1.5 * jnp.log(2 * jnp.pi) + log_det\n",
    "    return -0.5 * quad - log_norm"
   ]
  },
  {
   "cell_type": "code",
   "execution_count": null,
   "id": "12a6d266-6305-4f19-b959-1f5f759472e6",
   "metadata": {},
   "outputs": [],
   "source": [
    "def sample_gaussian_cholesky(mu, cov, key, N=5000):\n",
    "    L = jnp.linalg.cholesky(cov)\n",
    "    z = jax.random.normal(key, shape=(N, 3))\n",
    "    return mu + z @ L.T\n",
    "\n",
    "\n",
    "# Sample\n",
    "key = jax.random.PRNGKey(42)\n",
    "samples = sample_gaussian_cholesky(mu_true, cov_true, key)\n",
    "\n",
    "# Convert to NumPy for plotting\n",
    "samples_np = np.array(samples)\n",
    "\n",
    "# Plot corner plot\n",
    "figure = corner.corner(samples_np, labels=[\"x$_{0}$\", \"$\\u03b2_{e}$\", \"$\\u03b2_{l}$\"],\n",
    "                       truths=mu_true, show_titles=True, title_fmt=\".2f\")\n",
    "\n",
    "plt.show()"
   ]
  },
  {
   "cell_type": "code",
   "execution_count": null,
   "id": "3e9482c8-2000-4457-9b64-71ff5ef09441",
   "metadata": {},
   "outputs": [],
   "source": [
    "def diffmahpop_model(psi, tarr):\n",
    "    samples = sample_gaussian_cholesky(psi[\"mu\"], psi[\"cov\"], key, N=5000)\n",
    "    u_x0_draws = samples[:,0]\n",
    "    u_beta_e_draws = samples[:,1]\n",
    "    u_beta_l_draws  =  samples[:,2]\n",
    "\n",
    "    ZZ = jnp.zeros(len(u_x0_draws))\n",
    "    logt0 = jnp.log10(tarr[-1])\n",
    "    \n",
    "    #fixed parameters\n",
    "    logm0_arr = 13. + ZZ\n",
    "    t_peak_arr = 14.0 + ZZ\n",
    "\n",
    "    #Convert unbounded to bounded parameters\n",
    "    logtc_draws = np.log10(get_tc(u_x0_draws))\n",
    "    early_draws = get_early(u_beta_l_draws, u_beta_e_draws)\n",
    "    late_draws = get_late(u_beta_l_draws)\n",
    "    \n",
    "    mah_params = DEFAULT_MAH_PARAMS._make((logm0_arr, logtc_draws, early_draws, late_draws, t_peak_arr))\n",
    "    dmhdt, log_mahs = mah_halopop(mah_params, tarr, logt0)\n",
    "\n",
    "    return log_mahs, jnp.mean(log_mahs, axis=0), jnp.var(log_mahs, axis=0)"
   ]
  },
  {
   "cell_type": "code",
   "execution_count": null,
   "id": "613703dd-dc43-4073-a302-5af62c16cb46",
   "metadata": {},
   "outputs": [],
   "source": [
    "def mse(mean_mhalo_true: jnp.ndarray, mean_mhalo_pred: jnp.ndarray,\n",
    "       var_mhalo_true: jnp.ndarray, var_mhalo_pred: jnp.ndarray) -> float:\n",
    "    \"\"\"Mean squared error function.\"\"\"\n",
    "    return jnp.mean(jnp.power(mean_mhalo_true - mean_mhalo_pred, 2)) + jnp.mean(jnp.power(var_mhalo_true - var_mhalo_pred, 2))"
   ]
  },
  {
   "cell_type": "code",
   "execution_count": null,
   "id": "0683afce-c32e-4e56-9b4e-49180555840b",
   "metadata": {},
   "outputs": [],
   "source": [
    "def mseloss(psi, model, tarr, mean_mhalo_true, var_mhalo_true):\n",
    "    _, mean_mhalo_pred, var_mhalo_pred = model(psi, tarr)\n",
    "    return mse(mean_mhalo_true, mean_mhalo_pred, var_mhalo_true, var_mhalo_pred)"
   ]
  },
  {
   "cell_type": "code",
   "execution_count": null,
   "id": "205a6315-54e9-4abf-82cd-645a2a9f7d3c",
   "metadata": {},
   "outputs": [],
   "source": [
    "dmseloss = grad(mseloss)"
   ]
  },
  {
   "cell_type": "code",
   "execution_count": null,
   "id": "35ba713c-c6d4-4461-be8b-3b5ccb094c67",
   "metadata": {},
   "outputs": [],
   "source": [
    "def model_optimization_loop(psi, model, loss, dloss, tarr, mean_mhalo_true, var_mhalo_true,\n",
    "                            n_steps=10000, step_size=0.001):\n",
    "    \n",
    "    losses = []\n",
    "\n",
    "    for i in tqdm(range(n_steps)):\n",
    "        \n",
    "        grads = dloss(dict(mu=psi[\"mu\"], cov=psi[\"cov\"]),\n",
    "                      model, tarr, mean_mhalo_true, var_mhalo_true)\n",
    "        \n",
    "        psi[\"mu\"]   = psi[\"mu\"]   -  step_size*grads[\"mu\"]\n",
    "        psi[\"cov\"]  = psi[\"cov\"]  -  step_size*grads[\"cov\"]\n",
    "\n",
    "        losses.append(loss(dict(mu=psi[\"mu\"], cov=psi[\"cov\"]), \n",
    "                           model, tarr, mean_mhalo_true, var_mhalo_true))\n",
    "\n",
    "    return losses, psi"
   ]
  },
  {
   "cell_type": "code",
   "execution_count": null,
   "id": "8db44f81-6237-4606-8e89-6b9af3e162cf",
   "metadata": {},
   "outputs": [],
   "source": []
  },
  {
   "cell_type": "markdown",
   "id": "770eee4c-eef1-4042-a2d9-dc484cb53daa",
   "metadata": {},
   "source": [
    "#### Fiducial model"
   ]
  },
  {
   "cell_type": "code",
   "execution_count": null,
   "id": "74c9a113-9f5b-4cd2-a75f-88203b97050a",
   "metadata": {},
   "outputs": [],
   "source": [
    "tarr = jnp.linspace(0.5, 13.8, 100)\n",
    "log_mahs_true, mean_mhalo_true, var_mhalo_true = diffmahpop_model(dict(mu=mu_true, cov=cov_true), tarr)\n"
   ]
  },
  {
   "cell_type": "markdown",
   "id": "ab21058e-0084-4d9b-8803-ecba95f42edd",
   "metadata": {},
   "source": [
    "#### Random initial guess"
   ]
  },
  {
   "cell_type": "code",
   "execution_count": null,
   "id": "0704496d-0654-4683-8444-d1d1bcf81d9f",
   "metadata": {},
   "outputs": [],
   "source": [
    "cov_true"
   ]
  },
  {
   "cell_type": "code",
   "execution_count": null,
   "id": "ba645dc5-5c07-4eaf-b90c-4da9f5633f04",
   "metadata": {},
   "outputs": [],
   "source": [
    "u_x0_mean_rand = np.random.normal()\n",
    "u_x0_var_rand = np.random.uniform(0.1,0.3)\n",
    "\n",
    "u_beta_e_mean_rand = np.random.normal()\n",
    "u_beta_e_var_rand = np.random.uniform(0.2,0.7)\n",
    "\n",
    "u_beta_l_mean_rand = np.random.normal()\n",
    "u_beta_l_var_rand = np.random.uniform(0.1,0.3)\n",
    "\n",
    "off_diag_rand = [np.random.uniform(0.01,0.09), np.random.uniform(0.01,0.09), np.random.uniform(0.01,0.09)]\n",
    "#off_diag_rand = [np.random.normal(), np.random.normal(), np.random.normal()]\n",
    "\n",
    "mu_rand = jnp.array([u_x0_mean_rand, u_beta_e_mean_rand, u_beta_l_mean_rand])\n",
    "\n",
    "cov_rand = jnp.array([[u_x0_var_rand,  0,    0],\n",
    "                      [off_diag_rand[0], u_beta_e_var_rand,  0],\n",
    "                      [off_diag_rand[1], off_diag_rand[2], u_beta_l_var_rand]])\n",
    "\n",
    "log_mahs_guess, mean_mhalo_guess, var_mhalo_guess = diffmahpop_model(dict(mu=mu_rand, cov=cov_rand), tarr)\n"
   ]
  },
  {
   "cell_type": "code",
   "execution_count": null,
   "id": "21e0b7ee-bf22-4667-8ebd-fa1f4530ac23",
   "metadata": {},
   "outputs": [],
   "source": [
    "cov_rand"
   ]
  },
  {
   "cell_type": "code",
   "execution_count": null,
   "id": "74c4ce2d-7395-416a-9a35-fb0b64feee5c",
   "metadata": {},
   "outputs": [],
   "source": [
    "fig, ax = plt.subplots(1, 1)\n",
    "# __=ax.semilogy()\n",
    "\n",
    "i=0\n",
    "# for mah in log_mahs_true:\n",
    "#     __=ax.plot(tarr, mah, color='orange', alpha=0.1, lw=0.5)\n",
    "#     i+=1\n",
    "\n",
    "#true\n",
    "__=ax.plot(tarr, mean_mhalo_true, c='k', lw=2, label='true mean')\n",
    "std_true = np.sqrt(var_mhalo_true)\n",
    "__=ax.fill_between(tarr, mean_mhalo_true-std_true, mean_mhalo_true+std_true, color='k', alpha=0.2)\n",
    "\n",
    "#initial guess\n",
    "__=ax.plot(tarr, mean_mhalo_guess, c='deepskyblue', lw=2, label='guess mean')\n",
    "std_guess = np.sqrt(var_mhalo_guess)\n",
    "__=ax.fill_between(tarr, mean_mhalo_guess-std_guess, mean_mhalo_guess+std_guess, color='deepskyblue', alpha=0.1)\n",
    "\n",
    "\n",
    "\n",
    "\n",
    "__=ax.set_xlabel('t [Gyr)')\n",
    "__=ax.set_xlim(0.4,13.8)\n",
    "__=ax.invert_xaxis()\n",
    "ax.set_ylabel('log$_{10}$ ($M_{h}$)')\n",
    "plt.legend()\n",
    "plt.show()"
   ]
  },
  {
   "cell_type": "code",
   "execution_count": null,
   "id": "847fa482-5378-4ab9-b9f7-045bd4b12f44",
   "metadata": {},
   "outputs": [],
   "source": [
    "losses, psi = model_optimization_loop(dict(mu=mu_rand, cov=cov_rand),\n",
    "                                      diffmahpop_model, mseloss, dmseloss, tarr, \n",
    "                                      mean_mhalo_true, var_mhalo_true)"
   ]
  },
  {
   "cell_type": "code",
   "execution_count": null,
   "id": "cf3e1c86-8583-4419-8a4b-e7199215e812",
   "metadata": {},
   "outputs": [],
   "source": [
    "plt.plot(losses)\n",
    "plt.xlabel('iteration')\n",
    "plt.ylabel('mse')\n",
    "plt.show()"
   ]
  },
  {
   "cell_type": "markdown",
   "id": "edd21065-2289-46bb-ade3-2bca944c77f4",
   "metadata": {},
   "source": [
    "#### Fitted model"
   ]
  },
  {
   "cell_type": "code",
   "execution_count": null,
   "id": "514b50ba-a350-427b-b2c8-2fff6f67d9a4",
   "metadata": {},
   "outputs": [],
   "source": [
    "log_mahs_fit, mean_mhalo_fit, var_mhalo_fit = diffmahpop_model(dict(mu=psi[\"mu\"], cov=psi[\"cov\"]), tarr)"
   ]
  },
  {
   "cell_type": "code",
   "execution_count": null,
   "id": "1478306a-80e3-483e-a256-bdb91334b207",
   "metadata": {},
   "outputs": [],
   "source": [
    "mean_mhalo_fit"
   ]
  },
  {
   "cell_type": "code",
   "execution_count": null,
   "id": "e0adce4c-f7ed-401a-839e-a040ca0aaae7",
   "metadata": {},
   "outputs": [],
   "source": [
    "var_mhalo_fit"
   ]
  },
  {
   "cell_type": "code",
   "execution_count": null,
   "id": "eaf245e8-4b91-431a-8291-8f61d1596cfe",
   "metadata": {},
   "outputs": [],
   "source": [
    "fig, ax = plt.subplots(1, 1)\n",
    "\n",
    "#true\n",
    "__=ax.plot(tarr, mean_mhalo_true, c='k', lw=2, label='true mean')\n",
    "std_true = np.sqrt(var_mhalo_true)\n",
    "__=ax.fill_between(tarr, mean_mhalo_true-std_true, mean_mhalo_true+std_true, color='k', alpha=0.2)\n",
    "\n",
    "#initial guess\n",
    "__=ax.plot(tarr, mean_mhalo_guess, c='deepskyblue', lw=2, label='guess mean')\n",
    "std_guess = np.sqrt(var_mhalo_guess)\n",
    "__=ax.fill_between(tarr, mean_mhalo_guess-std_guess, mean_mhalo_guess+std_guess, color='deepskyblue', alpha=0.1)\n",
    "\n",
    "#fit\n",
    "__=ax.plot(tarr, mean_mhalo_fit, c='orange', lw=2, label='fit mean')\n",
    "std_fit = np.sqrt(var_mhalo_fit)\n",
    "__=ax.fill_between(tarr, mean_mhalo_fit-std_fit, mean_mhalo_fit+std_fit, color='orange', alpha=0.2)\n",
    "\n",
    "\n",
    "__=ax.set_xlabel('t [Gyr)')\n",
    "__=ax.set_xlim(0.4,13.8)\n",
    "__=ax.invert_xaxis()\n",
    "ax.set_ylabel('log$_{10}$ ($M_{h}$)')\n",
    "plt.legend()\n",
    "plt.show()"
   ]
  },
  {
   "cell_type": "code",
   "execution_count": null,
   "id": "664f66cc-c0fc-4381-9446-f973aebe863e",
   "metadata": {},
   "outputs": [],
   "source": []
  },
  {
   "cell_type": "code",
   "execution_count": null,
   "id": "7d262a53-e6e9-4d74-956a-b85338069687",
   "metadata": {},
   "outputs": [],
   "source": []
  }
 ],
 "metadata": {
  "kernelspec": {
   "display_name": "Python 3 (ipykernel)",
   "language": "python",
   "name": "python3"
  },
  "language_info": {
   "codemirror_mode": {
    "name": "ipython",
    "version": 3
   },
   "file_extension": ".py",
   "mimetype": "text/x-python",
   "name": "python",
   "nbconvert_exporter": "python",
   "pygments_lexer": "ipython3",
   "version": "3.13.0"
  }
 },
 "nbformat": 4,
 "nbformat_minor": 5
}
