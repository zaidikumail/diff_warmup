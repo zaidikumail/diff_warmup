{
 "cells": [
  {
   "cell_type": "code",
   "execution_count": 1,
   "id": "d58c1b4c-eb98-4314-97e2-4837789190a0",
   "metadata": {},
   "outputs": [
    {
     "name": "stderr",
     "output_type": "stream",
     "text": [
      "/var/folders/gw/k3g4y13d0_38hyq_g18hp1s80000gn/T/ipykernel_34944/1374975992.py:12: TqdmExperimentalWarning: Using `tqdm.autonotebook.tqdm` in notebook mode. Use `tqdm.tqdm` instead to force console mode (e.g. in jupyter console)\n",
      "  from tqdm.autonotebook import tqdm\n"
     ]
    }
   ],
   "source": [
    "import dsps\n",
    "from dsps import load_ssp_templates\n",
    "from dsps.cosmology import age_at_z, DEFAULT_COSMOLOGY\n",
    "from dsps import calc_rest_sed_sfh_table_lognormal_mdf\n",
    "from dsps import calc_rest_sed_sfh_table_met_table\n",
    "import numpy as np\n",
    "from matplotlib import pyplot as plt\n",
    "\n",
    "from jax import grad\n",
    "import jax.numpy as jnp\n",
    "from jax import vmap \n",
    "from tqdm.autonotebook import tqdm\n",
    "\n",
    "import numpy.ma as ma"
   ]
  },
  {
   "cell_type": "code",
   "execution_count": 2,
   "id": "ac9165f9-325a-4a89-8b25-f13924eb2f17",
   "metadata": {},
   "outputs": [],
   "source": [
    "# ! curl https://portal.nersc.gov/project/hacc/aphearin/DSPS_data/ssp_data_fsps_v3.2_lgmet_age.h5 > tempdata.h5"
   ]
  },
  {
   "cell_type": "code",
   "execution_count": 3,
   "id": "9c95c5a3-af8e-4e14-a3e3-fd932efc4b36",
   "metadata": {},
   "outputs": [
    {
     "name": "stdout",
     "output_type": "stream",
     "text": [
      "('ssp_lgmet', 'ssp_lg_age_gyr', 'ssp_wave', 'ssp_flux')\n",
      "\n",
      "ssp_lgmet.shape = (12,)\n",
      "ssp_lg_age_gyr.shape = (107,)\n",
      "ssp_wave.shape = (5994,)\n",
      "ssp_flux.shape = (12, 107, 5994)\n"
     ]
    }
   ],
   "source": [
    "ssp_data = load_ssp_templates(fn='tempdata.h5')\n",
    "\n",
    "print(ssp_data._fields)\n",
    "\n",
    "print('\\nssp_lgmet.shape = {}'.format(ssp_data.ssp_lgmet.shape))\n",
    "print('ssp_lg_age_gyr.shape = {}'.format(ssp_data.ssp_lg_age_gyr.shape))\n",
    "print('ssp_wave.shape = {}'.format(ssp_data.ssp_wave.shape))\n",
    "print('ssp_flux.shape = {}'.format(ssp_data.ssp_flux.shape))"
   ]
  },
  {
   "cell_type": "code",
   "execution_count": 4,
   "id": "adc28ac9-870e-4c32-8f43-7c4bdf4b7b96",
   "metadata": {},
   "outputs": [],
   "source": [
    "gal_t_table = np.linspace(0.05, 13.8, 100) # age of the universe in Gyr\n",
    "gal_sfr_table = np.random.uniform(0, 10, gal_t_table.size) # SFR in Msun/yr\n",
    "\n",
    "gal_lgmet = -2.0 # log10(Z)\n",
    "gal_lgmet_scatter = 0.2 # lognormal scatter in the metallicity distribution function"
   ]
  },
  {
   "cell_type": "code",
   "execution_count": 5,
   "id": "9e0b3409-3bf1-4b8c-9828-a4ff1569f9d6",
   "metadata": {},
   "outputs": [
    {
     "name": "stdout",
     "output_type": "stream",
     "text": [
      "CosmoParams(Om0=0.3075, w0=-1.0, wa=0.0, h=0.6774)\n"
     ]
    }
   ],
   "source": [
    "print(DEFAULT_COSMOLOGY)\n",
    "\n",
    "z_obs = 0.5\n",
    "t_obs = age_at_z(z_obs, *DEFAULT_COSMOLOGY) # age of the universe in Gyr at z_obs\n",
    "t_obs = t_obs[0] # age_at_z function returns an array, but SED functions accept a float for this argument"
   ]
  },
  {
   "cell_type": "code",
   "execution_count": 6,
   "id": "2a0d93a3-b81e-4982-ac4b-925f1692f4d7",
   "metadata": {},
   "outputs": [],
   "source": [
    "sed_info = calc_rest_sed_sfh_table_lognormal_mdf(\n",
    "    gal_t_table, gal_sfr_table, gal_lgmet, gal_lgmet_scatter,\n",
    "    ssp_data.ssp_lgmet, ssp_data.ssp_lg_age_gyr, ssp_data.ssp_flux, t_obs)\n",
    "\n",
    "gal_lgmet_table = np.linspace(-3, -2, gal_t_table.size)\n",
    "\n",
    "sed_info2 = calc_rest_sed_sfh_table_met_table(\n",
    "    gal_t_table, gal_sfr_table, gal_lgmet_table, gal_lgmet_scatter,\n",
    "    ssp_data.ssp_lgmet, ssp_data.ssp_lg_age_gyr, ssp_data.ssp_flux, t_obs)"
   ]
  },
  {
   "cell_type": "code",
   "execution_count": 7,
   "id": "e9309471-e958-484c-affb-2bf2a7d55292",
   "metadata": {},
   "outputs": [],
   "source": [
    "continuum_fit_lo = 6480\n",
    "halpha_line_wave = 6562.8\n",
    "continuum_fit_hi = 6650"
   ]
  },
  {
   "cell_type": "code",
   "execution_count": 8,
   "id": "8530a1b8-2f12-4d2c-a044-791832e5596e",
   "metadata": {},
   "outputs": [
    {
     "data": {
      "text/plain": [
       "(6480, 6562.8, 6650)"
      ]
     },
     "execution_count": 8,
     "metadata": {},
     "output_type": "execute_result"
    }
   ],
   "source": [
    "continuum_fit_lo, halpha_line_wave, continuum_fit_hi"
   ]
  },
  {
   "cell_type": "code",
   "execution_count": 9,
   "id": "6d81df22-dfcf-4d39-bbae-dfe04c23ebea",
   "metadata": {},
   "outputs": [],
   "source": [
    "sel = (ssp_data.ssp_wave>continuum_fit_lo) & (ssp_data.ssp_wave<continuum_fit_hi)\n",
    "continuum_wave = ssp_data.ssp_wave[sel]\n",
    "continuum_flux_true = sed_info.rest_sed[sel]"
   ]
  },
  {
   "cell_type": "code",
   "execution_count": 10,
   "id": "1b5f19f3-6e2a-437d-bb2b-49382e9e957d",
   "metadata": {},
   "outputs": [],
   "source": [
    "continuum_wave_masked = ma.array(continuum_wave, mask = (continuum_wave>6530)&(continuum_wave<6600))\n",
    "continuum_flux_true_masked = ma.array(continuum_flux_true, mask = (continuum_wave>6530)&(continuum_wave<6600))\n"
   ]
  },
  {
   "cell_type": "code",
   "execution_count": 11,
   "id": "baceb6fe-05be-49fb-939b-2ce2ebaed00f",
   "metadata": {},
   "outputs": [],
   "source": [
    "# Blue sideband: 6480–6510 Å\n",
    "# Red sideband: 6620–6650 Å"
   ]
  },
  {
   "cell_type": "code",
   "execution_count": null,
   "id": "2130e97e-a653-4926-933a-5c433e530168",
   "metadata": {},
   "outputs": [],
   "source": []
  },
  {
   "cell_type": "code",
   "execution_count": 12,
   "id": "f3218f71-d752-4a05-8c91-05a460f25f16",
   "metadata": {},
   "outputs": [
    {
     "data": {
      "image/png": "[encoded data removed]",
      "text/plain": [
       "<Figure size 640x480 with 1 Axes>"
      ]
     },
     "metadata": {},
     "output_type": "display_data"
    }
   ],
   "source": []
  },
  {
   "cell_type": "code",
   "execution_count": null,
   "id": "2a5700ea-6c88-4b46-8906-ac87708aff23",
   "metadata": {},
   "outputs": [],
   "source": []
  },
  {
   "cell_type": "code",
   "execution_count": null,
   "id": "4dbabce5-893a-4dc2-8d5f-30de739e8281",
   "metadata": {},
   "outputs": [],
   "source": []
  },
  {
   "cell_type": "code",
   "execution_count": null,
   "id": "dd4a38cc-10e7-4021-aef5-d79cbf1c014f",
   "metadata": {},
   "outputs": [],
   "source": []
  },
  {
   "cell_type": "code",
   "execution_count": null,
   "id": "90fd5504-6f0b-4b4a-b3f8-61c5b184ae09",
   "metadata": {},
   "outputs": [],
   "source": []
  },
  {
   "cell_type": "code",
   "execution_count": 13,
   "id": "8a3ec35b-58e1-46c1-81fc-4f61c912cea7",
   "metadata": {},
   "outputs": [],
   "source": [
    "def quad_continuum_model(theta, wave):\n",
    "    c0 = theta[\"c0\"]\n",
    "    c1 = theta[\"c1\"]\n",
    "    c2 = theta[\"c2\"]\n",
    "    # print(c0, c1,c2)\n",
    "\n",
    "    return c2*(wave*wave) + c1*wave + c0"
   ]
  },
  {
   "cell_type": "code",
   "execution_count": null,
   "id": "8d78ff94-74c6-4530-b0f1-fe1beb312bda",
   "metadata": {},
   "outputs": [],
   "source": []
  },
  {
   "cell_type": "code",
   "execution_count": 14,
   "id": "05baf73b-3420-4ab5-a415-52f3d8b8079e",
   "metadata": {},
   "outputs": [],
   "source": [
    "def mse(flux_true: jnp.ndarray, flux_pred: jnp.ndarray) -> float:\n",
    "    \"\"\"Mean squared error function.\"\"\"\n",
    "    return jnp.mean(jnp.power(flux_true - flux_pred, 2))"
   ]
  },
  {
   "cell_type": "code",
   "execution_count": 15,
   "id": "ae2e3da5-1ac4-411c-88e7-34f56b3b0192",
   "metadata": {},
   "outputs": [],
   "source": [
    "def mseloss(theta, model, wave, flux_true):\n",
    "    flux_pred = model(theta, wave)\n",
    "    # print(flux_pred)\n",
    "    return mse(flux_true, flux_pred)"
   ]
  },
  {
   "cell_type": "code",
   "execution_count": 16,
   "id": "070d2ee5-990d-4581-8670-31ed0b58bde2",
   "metadata": {},
   "outputs": [],
   "source": [
    "dmseloss = grad(mseloss)"
   ]
  },
  {
   "cell_type": "code",
   "execution_count": 136,
   "id": "a9d0c5b1-5c27-43b5-a25d-e76146e20141",
   "metadata": {},
   "outputs": [],
   "source": [
    "def model_optimization_loop(theta, model, loss, dloss, wave, flux_true, n_steps=10000, step_size=0.001):\n",
    "    \n",
    "    losses = []\n",
    "\n",
    "    for i in tqdm(range(n_steps)):\n",
    "        \n",
    "        grads = dloss(dict(c0=theta[\"c0\"], c1=theta[\"c1\"], c2=theta[\"c2\"]), model, wave, flux_true)\n",
    "        \n",
    "        theta[\"c0\"] = theta[\"c0\"] - step_size*grads[\"c0\"]\n",
    "        theta[\"c1\"] = theta[\"c1\"] - step_size*grads[\"c1\"]\n",
    "        theta[\"c2\"] = theta[\"c2\"] - step_size*grads[\"c2\"]\n",
    "\n",
    "        losses.append(loss(dict(c0=theta[\"c0\"], c1=theta[\"c1\"], c2=theta[\"c2\"]), model, wave, flux_true))\n",
    "\n",
    "    return losses, theta"
   ]
  },
  {
   "cell_type": "code",
   "execution_count": 137,
   "id": "0c46c124-f88c-4838-87c9-9b08d6dd857c",
   "metadata": {},
   "outputs": [],
   "source": [
    "c0_rand = -1.3\n",
    "c1_rand = 4e-4\n",
    "c2_rand = -3e-8"
   ]
  },
  {
   "cell_type": "code",
   "execution_count": 138,
   "id": "a646539f-ce12-40e4-b0d4-fbd0044a1dc0",
   "metadata": {},
   "outputs": [
    {
     "data": {
      "text/plain": [
       "(-1.3, 0.0004, -3e-08)"
      ]
     },
     "execution_count": 138,
     "metadata": {},
     "output_type": "execute_result"
    }
   ],
   "source": [
    "c0_rand, c1_rand, c2_rand"
   ]
  },
  {
   "cell_type": "code",
   "execution_count": 139,
   "id": "3b44bdb0-6fb8-4033-813e-14514e8b468c",
   "metadata": {},
   "outputs": [],
   "source": [
    "model_flux_rand = quad_continuum_model(dict(c0=c0_rand, c1=c1_rand, c2=c2_rand), continuum_wave_masked.data)"
   ]
  },
  {
   "cell_type": "code",
   "execution_count": 140,
   "id": "100a9462-ad70-4701-b311-645dcadf61df",
   "metadata": {},
   "outputs": [
    {
     "data": {
      "image/png": "[encoded data removed]",
      "text/plain": [
       "<Figure size 640x480 with 1 Axes>"
      ]
     },
     "metadata": {},
     "output_type": "display_data"
    }
   ],
   "source": [
    "fig, ax = plt.subplots(1, 1)\n",
    "__=ax.loglog()\n",
    "__=ax.plot(ssp_data.ssp_wave, sed_info.rest_sed, alpha=0.75)\n",
    "__=ax.plot(continuum_wave, continuum_flux_true, alpha=0.75, ls='--', label='continuum limits')\n",
    "__=ax.axvline(halpha_line_wave, label='Halpha', alpha=0.25, c='r')\n",
    "__=ax.plot(continuum_wave_masked, continuum_flux_true_masked, alpha=0.75, ls='--', c='k', label='masked continuum')\n",
    "\n",
    "__=ax.plot(continuum_wave_masked.data, model_flux_rand, alpha=0.75, ls='--', c='g', label='random initial guess')\n",
    "\n",
    "__=ax.set_xlim(6.4e3,6.75e3)\n",
    "plt.legend()\n",
    "plt.show()"
   ]
  },
  {
   "cell_type": "code",
   "execution_count": 141,
   "id": "c4f77af0-894f-4a3b-8595-a844dbd33c34",
   "metadata": {},
   "outputs": [
    {
     "data": {
      "text/plain": [
       "Array(0.00107741, dtype=float64)"
      ]
     },
     "execution_count": 141,
     "metadata": {},
     "output_type": "execute_result"
    }
   ],
   "source": [
    "mseloss(dict(c0=c0_rand, c1=c1_rand, c2=c2_rand), quad_continuum_model, continuum_wave_masked.data, continuum_flux_true_masked.data)\n"
   ]
  },
  {
   "cell_type": "code",
   "execution_count": 142,
   "id": "e5da09d3-6272-4632-a252-736782a5651b",
   "metadata": {},
   "outputs": [
    {
     "data": {
      "text/plain": [
       "{'c0': Array(0.06564315, dtype=float64, weak_type=True),\n",
       " 'c1': Array(430.97379371, dtype=float64, weak_type=True),\n",
       " 'c2': Array(2829673.71502868, dtype=float64, weak_type=True)}"
      ]
     },
     "execution_count": 142,
     "metadata": {},
     "output_type": "execute_result"
    }
   ],
   "source": [
    "dmseloss(dict(c0=c0_rand, c1=c1_rand, c2=c2_rand), quad_continuum_model, continuum_wave_masked.data, continuum_flux_true_masked.data)\n"
   ]
  },
  {
   "cell_type": "code",
   "execution_count": 143,
   "id": "db3c65c4-91d9-49d4-9774-20312c445dba",
   "metadata": {},
   "outputs": [
    {
     "data": {
      "application/vnd.jupyter.widget-view+json": {
       "model_id": "d59599edfb2f42bf858d0cffbdac8d45",
       "version_major": 2,
       "version_minor": 0
      },
      "text/plain": [
       "  0%|          | 0/10000 [00:00<?, ?it/s]"
      ]
     },
     "metadata": {},
     "output_type": "display_data"
    }
   ],
   "source": [
    "losses, theta = model_optimization_loop(dict(c0=c0_rand, c1=c1_rand, c2=c2_rand),\n",
    "                                             quad_continuum_model, mseloss, dmseloss, \n",
    "                                        continuum_wave_masked.data, continuum_flux_true_masked.data)"
   ]
  },
  {
   "cell_type": "code",
   "execution_count": 144,
   "id": "b9fdb033-a61b-4de6-91ea-54e41311e616",
   "metadata": {},
   "outputs": [
    {
     "data": {
      "image/png": "[encoded data removed]",
      "text/plain": [
       "<Figure size 640x480 with 1 Axes>"
      ]
     },
     "metadata": {},
     "output_type": "display_data"
    }
   ],
   "source": [
    "plt.plot(losses)\n",
    "plt.xlabel('iteration')\n",
    "plt.ylabel('mse')\n",
    "plt.show()"
   ]
  },
  {
   "cell_type": "code",
   "execution_count": 126,
   "id": "4ba20aa0-695b-4217-bb00-4afc54b7fe02",
   "metadata": {},
   "outputs": [],
   "source": [
    "continuum_flux_fit = quad_continuum_model(dict(c0=theta[\"c0\"], c1=theta[\"c1\"], c2=theta[\"c2\"]), continuum_wave_masked.data)"
   ]
  },
  {
   "cell_type": "code",
   "execution_count": 127,
   "id": "2db5bd78-c46f-4265-9dc6-b5cdd2258d42",
   "metadata": {},
   "outputs": [
    {
     "data": {
      "text/plain": [
       "Array([nan, nan, nan, nan, nan, nan, nan, nan, nan, nan, nan, nan, nan,\n",
       "       nan, nan, nan, nan, nan, nan, nan, nan, nan, nan, nan, nan, nan,\n",
       "       nan, nan, nan, nan, nan, nan, nan, nan, nan, nan, nan, nan, nan,\n",
       "       nan, nan, nan, nan, nan, nan, nan, nan, nan, nan, nan, nan, nan,\n",
       "       nan, nan, nan, nan, nan, nan, nan, nan, nan, nan, nan, nan, nan,\n",
       "       nan, nan, nan, nan, nan, nan, nan, nan, nan, nan, nan, nan, nan,\n",
       "       nan, nan, nan, nan, nan, nan, nan, nan, nan, nan, nan, nan, nan,\n",
       "       nan, nan, nan, nan, nan, nan, nan, nan, nan, nan, nan, nan, nan,\n",
       "       nan, nan, nan, nan, nan, nan, nan, nan, nan, nan, nan, nan, nan,\n",
       "       nan, nan, nan, nan, nan, nan, nan, nan, nan, nan, nan, nan, nan,\n",
       "       nan, nan, nan, nan, nan, nan, nan, nan, nan, nan, nan, nan, nan,\n",
       "       nan, nan, nan, nan, nan, nan, nan, nan, nan, nan, nan, nan, nan,\n",
       "       nan, nan, nan, nan, nan, nan, nan, nan, nan, nan, nan, nan, nan,\n",
       "       nan, nan, nan, nan, nan, nan, nan, nan, nan, nan, nan, nan, nan,\n",
       "       nan, nan, nan, nan, nan, nan], dtype=float64)"
      ]
     },
     "execution_count": 127,
     "metadata": {},
     "output_type": "execute_result"
    }
   ],
   "source": [
    "continuum_flux_fit"
   ]
  },
  {
   "cell_type": "code",
   "execution_count": null,
   "id": "07337809-a0ea-4554-ac58-302c376c3bd5",
   "metadata": {},
   "outputs": [],
   "source": []
  },
  {
   "cell_type": "code",
   "execution_count": null,
   "id": "f836f3d1-0ec8-4116-a510-a9ec006c0d7d",
   "metadata": {},
   "outputs": [],
   "source": []
  }
 ],
 "metadata": {
  "kernelspec": {
   "display_name": "Python 3 (ipykernel)",
   "language": "python",
   "name": "python3"
  },
  "language_info": {
   "codemirror_mode": {
    "name": "ipython",
    "version": 3
   },
   "file_extension": ".py",
   "mimetype": "text/x-python",
   "name": "python",
   "nbconvert_exporter": "python",
   "pygments_lexer": "ipython3",
   "version": "3.13.0"
  }
 },
 "nbformat": 4,
 "nbformat_minor": 5
}
