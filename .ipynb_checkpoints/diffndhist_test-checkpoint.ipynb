{
 "cells": [
  {
   "cell_type": "code",
   "execution_count": 6,
   "id": "d5dc2490-ee65-49bf-9c09-f9e0325ffc3b",
   "metadata": {},
   "outputs": [],
   "source": [
    "from diffsky import diffndhist\n",
    "import numpy as np"
   ]
  },
  {
   "cell_type": "code",
   "execution_count": 24,
   "id": "98afc8c4-cdda-456e-ae14-eca3048b00a5",
   "metadata": {},
   "outputs": [],
   "source": [
    "xc, yc = -0.5, 0.5\n",
    "npts, ndim = 200, 2\n",
    "nddata = np.tile((xc, yc), npts).reshape((npts,ndim))\n",
    "ndsig = np.zeros_like(nddata) + 0.001\n",
    "ydata = np.random.uniform(0, 1, npts)  # randoms for y"
   ]
  },
  {
   "cell_type": "code",
   "execution_count": 31,
   "id": "a4c46a10-6e2b-49f1-bcd5-2d5eeff90c1e",
   "metadata": {},
   "outputs": [],
   "source": [
    "nddata_lo = np.array([(1.0, 0.0), (-1.0, 0.0), (0.0, 1.0)])\n",
    "nddata_hi = np.array([(2.0, 1.0), (1.0, 3.0), (4.0, 5.0)])\n",
    "result = diffndhist.tw_ndhist_weighted(nddata, ndsig, ydata, nddata_lo, nddata_hi)\n",
    "correct_result = np.array((0, ydata.sum(), 0))"
   ]
  },
  {
   "cell_type": "code",
   "execution_count": 32,
   "id": "b734fb80-09ed-4605-af65-dc054de9633c",
   "metadata": {},
   "outputs": [
    {
     "data": {
      "text/plain": [
       "Array([ 0.       , 91.9144419,  0.       ], dtype=float64)"
      ]
     },
     "execution_count": 32,
     "metadata": {},
     "output_type": "execute_result"
    }
   ],
   "source": [
    "result"
   ]
  },
  {
   "cell_type": "code",
   "execution_count": 33,
   "id": "bed285f5-7e95-4f2b-8aba-4aa8e54e5b3e",
   "metadata": {},
   "outputs": [
    {
     "data": {
      "text/plain": [
       "array([ 0.       , 91.9144419,  0.       ])"
      ]
     },
     "execution_count": 33,
     "metadata": {},
     "output_type": "execute_result"
    }
   ],
   "source": [
    "correct_result"
   ]
  },
  {
   "cell_type": "code",
   "execution_count": null,
   "id": "7a2e90e4-e579-469a-b816-4acf36e4f9f3",
   "metadata": {},
   "outputs": [],
   "source": [
    "'''\n",
    "- In my case, the bins defined by nddata_lo, nddata_hi will be the Luminosity bins\n",
    "- nddata will be (npts,1) list of h-alpha fluxes\n",
    "- ydata will be an array of ones i think so that when the luminosity is within a bin w*y adds 1\n",
    "'''"
   ]
  },
  {
   "cell_type": "code",
   "execution_count": 7,
   "id": "3556f064-762e-4def-9a4a-9d910b771339",
   "metadata": {},
   "outputs": [],
   "source": [
    "def test_tw_ndhist_weighted_returns_correct_values_hard_coded_examples():\n",
    "    \"\"\"Manually check a few hard-coded specific examples\"\"\"\n",
    "    xc, yc = -0.5, 0.5\n",
    "    npts, ndim = 200, 2\n",
    "    nddata = np.tile((xc, yc), npts).reshape((npts, ndim))\n",
    "    ndsig = np.zeros_like(nddata) + 0.001\n",
    "    ydata = np.random.uniform(0, 1, npts)  # randoms for y\n",
    "\n",
    "    # Choose 3 different cells to compute the histogram\n",
    "    # Cell 1: (1.0 < x < 2.0) & (0.0 < y < 1.0)\n",
    "    # Cell 2: (-1.0 < x < 1.0) & (0.0 < y < 3.0)\n",
    "    # Cell 3: (0.0 < x < 4.0) & (1.0 < y < 5.0)\n",
    "    nddata_lo = np.array([(1.0, 0.0), (-1.0, 0.0), (0.0, 1.0)])\n",
    "    nddata_hi = np.array([(2.0, 1.0), (1.0, 3.0), (4.0, 5.0)])\n",
    "    result = diffndhist.tw_ndhist_weighted(nddata, ndsig, ydata, nddata_lo, nddata_hi)\n",
    "    correct_result = np.array((0, ydata.sum(), 0))\n",
    "    assert np.allclose(result, correct_result)\n",
    "\n",
    "    # Choose 3 different cells to compute the histogram\n",
    "    # Cell 1: (-1.0 < x < 0.0) & (-1.0 < y < 0.0)\n",
    "    # Cell 2: (0.0 < x < 1.0) & (0.0 < y < 1.0)\n",
    "    # Cell 3: (1.0 < x < 2.0) & (1.0 < y < 2.0)\n",
    "    nddata_lo = np.array([(-1.0, -1.0), (0.0, 0.0), (1.0, 1.0)])\n",
    "    nddata_hi = np.array([(0.0, 0.0), (1.0, 1.0), (2.0, 2.0)])\n",
    "    result = diffndhist.tw_ndhist_weighted(nddata, ndsig, ydata, nddata_lo, nddata_hi)\n",
    "    correct_result = np.zeros(3)\n",
    "    assert np.allclose(result, correct_result)\n",
    "\n",
    "    # Choose 3 different cells to compute the histogram\n",
    "    # Cell 1: (-1.0 < x < 0.0) & (0.0 < y < 1.0)\n",
    "    # Cell 2: (-1.0 < x < 0.0) & (-1.0 < y < 1.0)\n",
    "    # Cell 3: (1.0 < x < 2.0) & (-2.0 < y < 3.0)\n",
    "    nddata_lo = np.array([(-1.0, 0.0), (-1.0, -1.0), (1.0, -2.0)])\n",
    "    nddata_hi = np.array([(0.0, 1.0), (0.0, 1.0), (2.0, 3.0)])\n",
    "    result = diffndhist.tw_ndhist_weighted(nddata, ndsig, ydata, nddata_lo, nddata_hi)\n",
    "    correct_result = np.array((ydata.sum(), ydata.sum(), 0))\n",
    "    assert np.allclose(result, correct_result)"
   ]
  },
  {
   "cell_type": "code",
   "execution_count": 8,
   "id": "53369a4b-34d6-4bc9-8ca7-751d41b83d4e",
   "metadata": {},
   "outputs": [],
   "source": [
    "test_tw_ndhist_weighted_returns_correct_values_hard_coded_examples()"
   ]
  },
  {
   "cell_type": "code",
   "execution_count": null,
   "id": "271bdb0b-84a6-4b55-8e4d-ce38ff6eff25",
   "metadata": {},
   "outputs": [],
   "source": []
  }
 ],
 "metadata": {
  "kernelspec": {
   "display_name": "Python 3 (ipykernel)",
   "language": "python",
   "name": "python3"
  },
  "language_info": {
   "codemirror_mode": {
    "name": "ipython",
    "version": 3
   },
   "file_extension": ".py",
   "mimetype": "text/x-python",
   "name": "python",
   "nbconvert_exporter": "python",
   "pygments_lexer": "ipython3",
   "version": "3.13.0"
  }
 },
 "nbformat": 4,
 "nbformat_minor": 5
}
