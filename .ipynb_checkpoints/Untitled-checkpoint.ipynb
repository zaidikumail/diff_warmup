{
 "cells": [
  {
   "cell_type": "code",
   "execution_count": 1,
   "id": "b8f7fd14-a265-4b20-ac1a-8937329d000b",
   "metadata": {},
   "outputs": [
    {
     "name": "stderr",
     "output_type": "stream",
     "text": [
      "/Users/kumail/github/diff_warmup/emission_line_flux.py:13: TqdmExperimentalWarning: Using `tqdm.autonotebook.tqdm` in notebook mode. Use `tqdm.tqdm` instead to force console mode (e.g. in jupyter console)\n",
      "  from tqdm.autonotebook import tqdm\n"
     ]
    }
   ],
   "source": [
    "import emission_line_flux\n",
    "from emission_line_flux import get_emission_line_Flux\n",
    "from emission_line_flux import _get_clipped_sed\n",
    "import dsps\n",
    "from dsps import load_ssp_templates\n",
    "from dsps.cosmology import age_at_z, DEFAULT_COSMOLOGY\n",
    "from dsps import calc_rest_sed_sfh_table_lognormal_mdf\n",
    "from dsps import calc_rest_sed_sfh_table_met_table\n",
    "import numpy as np\n",
    "from matplotlib import pyplot as plt\n",
    "\n",
    "from jax import jit as jjit\n",
    "from jax import grad\n",
    "import jax.numpy as jnp\n",
    "from jax import vmap \n",
    "from tqdm.autonotebook import tqdm\n",
    "from astropy.constants import L_sun\n",
    "import astropy.units as u\n",
    "import numpy.ma as ma"
   ]
  },
  {
   "cell_type": "code",
   "execution_count": 2,
   "id": "2d224415-444e-4af2-a495-c28ef261847e",
   "metadata": {},
   "outputs": [
    {
     "name": "stdout",
     "output_type": "stream",
     "text": [
      "('ssp_lgmet', 'ssp_lg_age_gyr', 'ssp_wave', 'ssp_flux')\n",
      "\n",
      "ssp_lgmet.shape = (12,)\n",
      "ssp_lg_age_gyr.shape = (107,)\n",
      "ssp_wave.shape = (5994,)\n",
      "ssp_flux.shape = (12, 107, 5994)\n"
     ]
    }
   ],
   "source": [
    "ssp_data = load_ssp_templates(fn='tempdata.h5')\n",
    "\n",
    "print(ssp_data._fields)\n",
    "\n",
    "print('\\nssp_lgmet.shape = {}'.format(ssp_data.ssp_lgmet.shape))\n",
    "print('ssp_lg_age_gyr.shape = {}'.format(ssp_data.ssp_lg_age_gyr.shape))\n",
    "print('ssp_wave.shape = {}'.format(ssp_data.ssp_wave.shape))\n",
    "print('ssp_flux.shape = {}'.format(ssp_data.ssp_flux.shape))"
   ]
  },
  {
   "cell_type": "code",
   "execution_count": 3,
   "id": "4dd33009-d58a-43e9-b912-84c75b60c7b2",
   "metadata": {},
   "outputs": [],
   "source": [
    "gal_t_table = np.linspace(0.05, 13.8, 100) # age of the universe in Gyr\n",
    "gal_sfr_table = np.random.uniform(0, 10, gal_t_table.size) # SFR in Msun/yr\n",
    "\n",
    "gal_lgmet = -2.0 # log10(Z)\n",
    "gal_lgmet_scatter = 0.2 # lognormal scatter in the metallicity distribution function"
   ]
  },
  {
   "cell_type": "code",
   "execution_count": 4,
   "id": "0dbe83e3-802d-46e1-aa10-ddea239bbc80",
   "metadata": {},
   "outputs": [
    {
     "name": "stdout",
     "output_type": "stream",
     "text": [
      "CosmoParams(Om0=0.3075, w0=-1.0, wa=0.0, h=0.6774)\n"
     ]
    }
   ],
   "source": [
    "print(DEFAULT_COSMOLOGY)\n",
    "\n",
    "z_obs = 0.5\n",
    "t_obs = age_at_z(z_obs, *DEFAULT_COSMOLOGY) # age of the universe in Gyr at z_obs\n",
    "t_obs = t_obs[0] # age_at_z function returns an array, but SED functions accept a float for this argument"
   ]
  },
  {
   "cell_type": "code",
   "execution_count": 5,
   "id": "fc97fd68-5697-438f-b5f5-f04f18eb64bc",
   "metadata": {},
   "outputs": [],
   "source": [
    "sed_info = calc_rest_sed_sfh_table_lognormal_mdf(\n",
    "    gal_t_table, gal_sfr_table, gal_lgmet, gal_lgmet_scatter,\n",
    "    ssp_data.ssp_lgmet, ssp_data.ssp_lg_age_gyr, ssp_data.ssp_flux, t_obs)\n",
    "\n",
    "gal_lgmet_table = np.linspace(-3, -2, gal_t_table.size)\n",
    "\n",
    "sed_info2 = calc_rest_sed_sfh_table_met_table(\n",
    "    gal_t_table, gal_sfr_table, gal_lgmet_table, gal_lgmet_scatter,\n",
    "    ssp_data.ssp_lgmet, ssp_data.ssp_lg_age_gyr, ssp_data.ssp_flux, t_obs)"
   ]
  },
  {
   "cell_type": "code",
   "execution_count": 6,
   "id": "2b34c046-137f-4003-94bb-3b1645dc6c42",
   "metadata": {},
   "outputs": [],
   "source": [
    "continuum_fit_lo = 6480\n",
    "continuum_fit_hi = 6650\n",
    "\n",
    "halpha_line_lo = 6556\n",
    "halpha_line_center = 6562.8\n",
    "halpha_line_hi = 6572"
   ]
  },
  {
   "cell_type": "code",
   "execution_count": 7,
   "id": "eb3a4975-da1a-45e1-b0b4-36a3c3f8f01c",
   "metadata": {},
   "outputs": [
    {
     "data": {
      "application/vnd.jupyter.widget-view+json": {
       "model_id": "11377451c52944a283eb8a37252503ad",
       "version_major": 2,
       "version_minor": 0
      },
      "text/plain": [
       "  0%|          | 0/10000 [00:00<?, ?it/s]"
      ]
     },
     "metadata": {},
     "output_type": "display_data"
    }
   ],
   "source": [
    "losses, theta, continuum_rest_sed_initial, continuum_rest_sed_fit, line_rest_sed_Fnu, integrated_line_rest_F = get_emission_line_Flux(\n",
    "    ssp_data.ssp_wave,\n",
    "    sed_info.rest_sed,\n",
    "    continuum_fit_lo,\n",
    "    continuum_fit_hi,\n",
    "    halpha_line_lo,\n",
    "    halpha_line_center,\n",
    "    halpha_line_hi)"
   ]
  },
  {
   "cell_type": "code",
   "execution_count": 8,
   "id": "b0ec8888-9f38-4da5-90fc-e262d73e32f9",
   "metadata": {},
   "outputs": [
    {
     "data": {
      "image/png": "[encoded data removed]",
      "text/plain": [
       "<Figure size 640x480 with 1 Axes>"
      ]
     },
     "metadata": {},
     "output_type": "display_data"
    }
   ],
   "source": [
    "plt.plot(losses)\n",
    "plt.xlabel('iteration')\n",
    "plt.ylabel('mse')\n",
    "plt.show()"
   ]
  },
  {
   "cell_type": "code",
   "execution_count": 9,
   "id": "9f29f5e9-f85c-4022-a280-326e72b8ce25",
   "metadata": {},
   "outputs": [],
   "source": [
    "continuum_wave, continuum_rest_sed = _get_clipped_sed(ssp_data.ssp_wave, sed_info.rest_sed, continuum_fit_lo, continuum_fit_hi)"
   ]
  },
  {
   "cell_type": "code",
   "execution_count": 12,
   "id": "45927077-498b-4510-b6c6-43a03756b4d6",
   "metadata": {},
   "outputs": [
    {
     "data": {
      "text/plain": [
       "188"
      ]
     },
     "execution_count": 12,
     "metadata": {},
     "output_type": "execute_result"
    }
   ],
   "source": [
    "len(continuum_wave)"
   ]
  },
  {
   "cell_type": "code",
   "execution_count": 11,
   "id": "212d9eea-faba-4503-9287-13abc49031ca",
   "metadata": {},
   "outputs": [
    {
     "data": {
      "text/plain": [
       "170"
      ]
     },
     "execution_count": 11,
     "metadata": {},
     "output_type": "execute_result"
    }
   ],
   "source": [
    "len(continuum_rest_sed_fit)"
   ]
  },
  {
   "cell_type": "code",
   "execution_count": null,
   "id": "0b6104d0-c3b6-4cb6-8a3f-8fab90983c5c",
   "metadata": {},
   "outputs": [],
   "source": [
    "fig, ax = plt.subplots(1, 1)\n",
    "__=ax.loglog()\n",
    "__=ax.plot(ssp_data.ssp_wave, sed_info.rest_sed, alpha=0.1, c='k')\n",
    "\n",
    "\n",
    "__=ax.axvline(halpha_line_lo, alpha=0.1, c='r', ls='--')\n",
    "__=ax.axvline(halpha_line_wave, label='Halpha', alpha=0.25, c='r')\n",
    "__=ax.axvline(halpha_line_hi, alpha=0.1, c='r', ls='--')\n",
    "\n",
    "\n",
    "\n",
    "\n",
    "__=ax.plot(continuum_wave_masked, continuum_flux_true_masked, alpha=0.75, ls='--', c='k', label='masked continuum')\n",
    "\n",
    "__=ax.scatter(continuum_wave_masked.compressed(), model_flux_rand, alpha=1, s=2, c='g', label='initial guess')\n",
    "\n",
    "\n",
    "__=ax.scatter(continuum_wave_masked.compressed(), continuum_flux_fit, alpha=1, s=2, c='orange', label='fit')\n",
    "\n",
    "#__=ax.scatter(continuum_wave, continuum_flux_fit_interp, alpha=1, s=0.1, c='r', label='fit (interpolated)')\n",
    "\n",
    "\n",
    "__=ax.set_xlim(6.4e3,6.75e3)\n",
    "__=ax.set_ylim(4e-5,3e-3)\n",
    "\n",
    "__=ax.set_xlabel('wavelength [\\u212b]')\n",
    "__=ax.set_ylabel('[L$_{\\u2609}$ / Hz]')\n",
    "\n",
    "plt.legend()\n",
    "plt.show()"
   ]
  },
  {
   "cell_type": "code",
   "execution_count": null,
   "id": "323158ba-98ee-414d-94ad-9df417ea4528",
   "metadata": {},
   "outputs": [],
   "source": []
  }
 ],
 "metadata": {
  "kernelspec": {
   "display_name": "Python 3 (ipykernel)",
   "language": "python",
   "name": "python3"
  },
  "language_info": {
   "codemirror_mode": {
    "name": "ipython",
    "version": 3
   },
   "file_extension": ".py",
   "mimetype": "text/x-python",
   "name": "python",
   "nbconvert_exporter": "python",
   "pygments_lexer": "ipython3",
   "version": "3.13.0"
  }
 },
 "nbformat": 4,
 "nbformat_minor": 5
}
