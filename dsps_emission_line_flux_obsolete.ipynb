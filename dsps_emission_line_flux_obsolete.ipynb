{
 "cells": [
  {
   "cell_type": "code",
   "execution_count": 1,
   "id": "d58c1b4c-eb98-4314-97e2-4837789190a0",
   "metadata": {},
   "outputs": [
    {
     "name": "stderr",
     "output_type": "stream",
     "text": [
      "/var/folders/gw/k3g4y13d0_38hyq_g18hp1s80000gn/T/ipykernel_55156/2811561078.py:12: TqdmExperimentalWarning: Using `tqdm.autonotebook.tqdm` in notebook mode. Use `tqdm.tqdm` instead to force console mode (e.g. in jupyter console)\n",
      "  from tqdm.autonotebook import tqdm\n"
     ]
    }
   ],
   "source": [
    "import dsps\n",
    "from dsps import load_ssp_templates\n",
    "from dsps.cosmology import age_at_z, DEFAULT_COSMOLOGY\n",
    "from dsps import calc_rest_sed_sfh_table_lognormal_mdf\n",
    "from dsps import calc_rest_sed_sfh_table_met_table\n",
    "import numpy as np\n",
    "from matplotlib import pyplot as plt\n",
    "\n",
    "from jax import grad\n",
    "import jax.numpy as jnp\n",
    "from jax import vmap \n",
    "from tqdm.autonotebook import tqdm\n",
    "from astropy.constants import L_sun\n",
    "import astropy.units as u\n",
    "import numpy.ma as ma"
   ]
  },
  {
   "cell_type": "code",
   "execution_count": 2,
   "id": "ac9165f9-325a-4a89-8b25-f13924eb2f17",
   "metadata": {},
   "outputs": [],
   "source": [
    "# ! curl https://portal.nersc.gov/project/hacc/aphearin/DSPS_data/ssp_data_fsps_v3.2_lgmet_age.h5 > tempdata.h5"
   ]
  },
  {
   "cell_type": "code",
   "execution_count": 3,
   "id": "9c95c5a3-af8e-4e14-a3e3-fd932efc4b36",
   "metadata": {},
   "outputs": [
    {
     "name": "stdout",
     "output_type": "stream",
     "text": [
      "('ssp_lgmet', 'ssp_lg_age_gyr', 'ssp_wave', 'ssp_flux')\n",
      "\n",
      "ssp_lgmet.shape = (12,)\n",
      "ssp_lg_age_gyr.shape = (107,)\n",
      "ssp_wave.shape = (5994,)\n",
      "ssp_flux.shape = (12, 107, 5994)\n"
     ]
    }
   ],
   "source": [
    "ssp_data = load_ssp_templates(fn='tempdata.h5')\n",
    "\n",
    "print(ssp_data._fields)\n",
    "\n",
    "print('\\nssp_lgmet.shape = {}'.format(ssp_data.ssp_lgmet.shape))\n",
    "print('ssp_lg_age_gyr.shape = {}'.format(ssp_data.ssp_lg_age_gyr.shape))\n",
    "print('ssp_wave.shape = {}'.format(ssp_data.ssp_wave.shape))\n",
    "print('ssp_flux.shape = {}'.format(ssp_data.ssp_flux.shape))"
   ]
  },
  {
   "cell_type": "code",
   "execution_count": 4,
   "id": "adc28ac9-870e-4c32-8f43-7c4bdf4b7b96",
   "metadata": {},
   "outputs": [],
   "source": [
    "gal_t_table = np.linspace(0.05, 13.8, 100) # age of the universe in Gyr\n",
    "gal_sfr_table = np.random.uniform(0, 10, gal_t_table.size) # SFR in Msun/yr\n",
    "\n",
    "gal_lgmet = -2.0 # log10(Z)\n",
    "gal_lgmet_scatter = 0.2 # lognormal scatter in the metallicity distribution function"
   ]
  },
  {
   "cell_type": "code",
   "execution_count": 5,
   "id": "9e0b3409-3bf1-4b8c-9828-a4ff1569f9d6",
   "metadata": {},
   "outputs": [
    {
     "name": "stdout",
     "output_type": "stream",
     "text": [
      "CosmoParams(Om0=0.3075, w0=-1.0, wa=0.0, h=0.6774)\n"
     ]
    }
   ],
   "source": [
    "print(DEFAULT_COSMOLOGY)\n",
    "\n",
    "z_obs = 0.5\n",
    "t_obs = age_at_z(z_obs, *DEFAULT_COSMOLOGY) # age of the universe in Gyr at z_obs\n",
    "t_obs = t_obs[0] # age_at_z function returns an array, but SED functions accept a float for this argument"
   ]
  },
  {
   "cell_type": "code",
   "execution_count": 6,
   "id": "2a0d93a3-b81e-4982-ac4b-925f1692f4d7",
   "metadata": {},
   "outputs": [],
   "source": [
    "sed_info = calc_rest_sed_sfh_table_lognormal_mdf(\n",
    "    gal_t_table, gal_sfr_table, gal_lgmet, gal_lgmet_scatter,\n",
    "    ssp_data.ssp_lgmet, ssp_data.ssp_lg_age_gyr, ssp_data.ssp_flux, t_obs)\n",
    "\n",
    "gal_lgmet_table = np.linspace(-3, -2, gal_t_table.size)\n",
    "\n",
    "sed_info2 = calc_rest_sed_sfh_table_met_table(\n",
    "    gal_t_table, gal_sfr_table, gal_lgmet_table, gal_lgmet_scatter,\n",
    "    ssp_data.ssp_lgmet, ssp_data.ssp_lg_age_gyr, ssp_data.ssp_flux, t_obs)"
   ]
  },
  {
   "cell_type": "code",
   "execution_count": 7,
   "id": "4e42e628-91c5-455f-ac88-eb8beff17cb9",
   "metadata": {},
   "outputs": [
    {
     "ename": "_IncompleteInputError",
     "evalue": "incomplete input (669441264.py, line 2)",
     "output_type": "error",
     "traceback": [
      "  \u001b[36mCell\u001b[39m\u001b[36m \u001b[39m\u001b[32mIn[7]\u001b[39m\u001b[32m, line 2\u001b[39m\n\u001b[31m    \u001b[39m\n    ^\n\u001b[31m_IncompleteInputError\u001b[39m\u001b[31m:\u001b[39m incomplete input\n"
     ]
    }
   ],
   "source": [
    "def get_emission_line_flux():\n",
    "    "
   ]
  },
  {
   "cell_type": "code",
   "execution_count": null,
   "id": "e9309471-e958-484c-affb-2bf2a7d55292",
   "metadata": {},
   "outputs": [],
   "source": [
    "continuum_fit_lo = 6480\n",
    "continuum_fit_hi = 6650\n",
    "\n",
    "halpha_line_lo = 6556\n",
    "halpha_line_wave = 6562.8\n",
    "halpha_line_hi = 6572"
   ]
  },
  {
   "cell_type": "code",
   "execution_count": 8,
   "id": "8530a1b8-2f12-4d2c-a044-791832e5596e",
   "metadata": {},
   "outputs": [
    {
     "ename": "NameError",
     "evalue": "name 'continuum_fit_lo' is not defined",
     "output_type": "error",
     "traceback": [
      "\u001b[31m---------------------------------------------------------------------------\u001b[39m",
      "\u001b[31mNameError\u001b[39m                                 Traceback (most recent call last)",
      "\u001b[36mCell\u001b[39m\u001b[36m \u001b[39m\u001b[32mIn[8]\u001b[39m\u001b[32m, line 1\u001b[39m\n\u001b[32m----> \u001b[39m\u001b[32m1\u001b[39m \u001b[43mcontinuum_fit_lo\u001b[49m, halpha_line_wave, continuum_fit_hi\n",
      "\u001b[31mNameError\u001b[39m: name 'continuum_fit_lo' is not defined"
     ]
    }
   ],
   "source": [
    "continuum_fit_lo, halpha_line_wave, continuum_fit_hi"
   ]
  },
  {
   "cell_type": "code",
   "execution_count": 9,
   "id": "6d81df22-dfcf-4d39-bbae-dfe04c23ebea",
   "metadata": {},
   "outputs": [
    {
     "ename": "NameError",
     "evalue": "name 'continuum_fit_lo' is not defined",
     "output_type": "error",
     "traceback": [
      "\u001b[31m---------------------------------------------------------------------------\u001b[39m",
      "\u001b[31mNameError\u001b[39m                                 Traceback (most recent call last)",
      "\u001b[36mCell\u001b[39m\u001b[36m \u001b[39m\u001b[32mIn[9]\u001b[39m\u001b[32m, line 1\u001b[39m\n\u001b[32m----> \u001b[39m\u001b[32m1\u001b[39m sel = (ssp_data.ssp_wave>\u001b[43mcontinuum_fit_lo\u001b[49m) & (ssp_data.ssp_wave<continuum_fit_hi)\n\u001b[32m      2\u001b[39m continuum_wave      = ssp_data.ssp_wave[sel]\n\u001b[32m      3\u001b[39m continuum_flux_true = sed_info.rest_sed[sel]\n",
      "\u001b[31mNameError\u001b[39m: name 'continuum_fit_lo' is not defined"
     ]
    }
   ],
   "source": [
    "sel = (ssp_data.ssp_wave>continuum_fit_lo) & (ssp_data.ssp_wave<continuum_fit_hi)\n",
    "continuum_wave      = ssp_data.ssp_wave[sel]\n",
    "continuum_flux_true = sed_info.rest_sed[sel]\n",
    "continuum_rest_sed  = sed_info.rest_sed[sel]"
   ]
  },
  {
   "cell_type": "code",
   "execution_count": 10,
   "id": "702fda0c-e5a9-47f8-b13f-cd464769f346",
   "metadata": {},
   "outputs": [
    {
     "data": {
      "text/plain": [
       "(188, 188, 188)"
      ]
     },
     "execution_count": 10,
     "metadata": {},
     "output_type": "execute_result"
    }
   ],
   "source": [
    "len(continuum_rest_sed), len(continuum_wave), len(continuum_flux_true)"
   ]
  },
  {
   "cell_type": "code",
   "execution_count": 11,
   "id": "1b5f19f3-6e2a-437d-bb2b-49382e9e957d",
   "metadata": {},
   "outputs": [],
   "source": [
    "mask_lo, mask_hi = 6530, 6600\n",
    "mask = (continuum_wave > mask_lo) & (continuum_wave < mask_hi)\n",
    "continuum_wave_masked = ma.array(continuum_wave, mask = mask)\n",
    "continuum_flux_true_masked = ma.array(continuum_flux_true, mask = mask)"
   ]
  },
  {
   "cell_type": "code",
   "execution_count": 12,
   "id": "8a3ec35b-58e1-46c1-81fc-4f61c912cea7",
   "metadata": {},
   "outputs": [],
   "source": [
    "def quad_continuum_model(theta, wave):\n",
    "    c0 = theta[\"c0\"]\n",
    "    c1 = theta[\"c1\"]\n",
    "    c2 = theta[\"c2\"]\n",
    "\n",
    "    return (c2*wave*wave) + (c1*wave) + c0"
   ]
  },
  {
   "cell_type": "code",
   "execution_count": null,
   "id": "8d78ff94-74c6-4530-b0f1-fe1beb312bda",
   "metadata": {},
   "outputs": [],
   "source": []
  },
  {
   "cell_type": "code",
   "execution_count": 13,
   "id": "05baf73b-3420-4ab5-a415-52f3d8b8079e",
   "metadata": {},
   "outputs": [],
   "source": [
    "def mse(flux_true: jnp.ndarray, flux_pred: jnp.ndarray) -> jnp.float64:\n",
    "    \"\"\"Mean squared error function.\"\"\"\n",
    "    return jnp.mean(jnp.power(flux_true - flux_pred, 2))"
   ]
  },
  {
   "cell_type": "code",
   "execution_count": 14,
   "id": "ae2e3da5-1ac4-411c-88e7-34f56b3b0192",
   "metadata": {},
   "outputs": [],
   "source": [
    "def mseloss(theta, model, wave, flux_true):\n",
    "    flux_pred = model(theta, wave)\n",
    "    return mse(flux_true, flux_pred)"
   ]
  },
  {
   "cell_type": "code",
   "execution_count": 15,
   "id": "070d2ee5-990d-4581-8670-31ed0b58bde2",
   "metadata": {},
   "outputs": [],
   "source": [
    "dmseloss = grad(mseloss)"
   ]
  },
  {
   "cell_type": "code",
   "execution_count": 16,
   "id": "a9d0c5b1-5c27-43b5-a25d-e76146e20141",
   "metadata": {},
   "outputs": [],
   "source": [
    "def model_optimization_loop(theta, model, loss, dloss, wave, flux_true, n_steps=10000, step_size=1e-18):\n",
    "    \n",
    "    losses = []\n",
    "\n",
    "    for i in tqdm(range(n_steps)):\n",
    "        \n",
    "        grads = dloss(dict(c0=theta[\"c0\"], c1=theta[\"c1\"], c2=theta[\"c2\"]), model, wave, flux_true)\n",
    "        \n",
    "        theta[\"c0\"] = theta[\"c0\"] - step_size*grads[\"c0\"]\n",
    "        theta[\"c1\"] = theta[\"c1\"] - step_size*grads[\"c1\"]\n",
    "        theta[\"c2\"] = theta[\"c2\"] - step_size*grads[\"c2\"]\n",
    "\n",
    "        losses.append(loss(dict(c0=theta[\"c0\"], c1=theta[\"c1\"], c2=theta[\"c2\"]), model, wave, flux_true))\n",
    "\n",
    "    return losses, theta"
   ]
  },
  {
   "cell_type": "code",
   "execution_count": 17,
   "id": "0c46c124-f88c-4838-87c9-9b08d6dd857c",
   "metadata": {},
   "outputs": [],
   "source": [
    "# c0_rand = 7e-5\n",
    "# c1_rand = 1e-18\n",
    "# c2_rand = -3e-18\n",
    "\n",
    "c0_rand = np.mean(continuum_flux_true_masked)\n",
    "c1_rand = 1e-18\n",
    "c2_rand = -3e-18"
   ]
  },
  {
   "cell_type": "code",
   "execution_count": 18,
   "id": "a646539f-ce12-40e4-b0d4-fbd0044a1dc0",
   "metadata": {},
   "outputs": [
    {
     "data": {
      "text/plain": [
       "(np.float64(5.400567733212274e-05), 1e-18, -3e-18)"
      ]
     },
     "execution_count": 18,
     "metadata": {},
     "output_type": "execute_result"
    }
   ],
   "source": [
    "c0_rand, c1_rand, c2_rand"
   ]
  },
  {
   "cell_type": "code",
   "execution_count": 19,
   "id": "3b44bdb0-6fb8-4033-813e-14514e8b468c",
   "metadata": {},
   "outputs": [],
   "source": [
    "model_flux_rand = quad_continuum_model(dict(c0=c0_rand, c1=c1_rand, c2=c2_rand), continuum_wave_masked.compressed())"
   ]
  },
  {
   "cell_type": "code",
   "execution_count": 68,
   "id": "100a9462-ad70-4701-b311-645dcadf61df",
   "metadata": {},
   "outputs": [
    {
     "data": {
      "image/png": "[encoded data removed]",
      "text/plain": [
       "<Figure size 640x480 with 1 Axes>"
      ]
     },
     "metadata": {},
     "output_type": "display_data"
    }
   ],
   "source": [
    "fig, ax = plt.subplots(1, 1)\n",
    "__=ax.loglog()\n",
    "\n",
    "__=ax.plot(ssp_data.ssp_wave, sed_info.rest_sed, alpha=0.1, c='k')\n",
    "__=ax.axvline(halpha_line_wave, label='Halpha', alpha=0.25, c='r')\n",
    "\n",
    "__=ax.plot(continuum_wave, continuum_flux_true, alpha=0.75, ls='--', label='continuum limits')\n",
    "\n",
    "__=ax.plot(continuum_wave_masked, continuum_flux_true_masked, alpha=0.75, ls='--', c='k', label='masked continuum')\n",
    "\n",
    "__=ax.scatter(continuum_wave_masked.compressed(), model_flux_rand, alpha=1, s=2, c='g', label='initial guess')\n",
    "\n",
    "__=ax.set_xlim(6.4e3,6.75e3)\n",
    "__=ax.set_ylim(4e-5,3e-3)\n",
    "__=ax.set_xlabel('wavelength [\\u212b]')\n",
    "__=ax.set_ylabel('[L$_{\\u2609}$ / Hz]')\n",
    "\n",
    "plt.legend()\n",
    "plt.show()"
   ]
  },
  {
   "cell_type": "code",
   "execution_count": 21,
   "id": "c4f77af0-894f-4a3b-8595-a844dbd33c34",
   "metadata": {},
   "outputs": [
    {
     "data": {
      "text/plain": [
       "Array(2.05526802e-12, dtype=float64)"
      ]
     },
     "execution_count": 21,
     "metadata": {},
     "output_type": "execute_result"
    }
   ],
   "source": [
    "mseloss(dict(c0=c0_rand, c1=c1_rand, c2=c2_rand), quad_continuum_model, continuum_wave_masked.compressed(), continuum_flux_true_masked.compressed())\n"
   ]
  },
  {
   "cell_type": "code",
   "execution_count": 22,
   "id": "e5da09d3-6272-4632-a252-736782a5651b",
   "metadata": {},
   "outputs": [
    {
     "data": {
      "text/plain": [
       "{'c0': Array(-2.58602034e-10, dtype=float64),\n",
       " 'c1': Array(-5.70063051e-05, dtype=float64, weak_type=True),\n",
       " 'c2': Array(-0.73678815, dtype=float64, weak_type=True)}"
      ]
     },
     "execution_count": 22,
     "metadata": {},
     "output_type": "execute_result"
    }
   ],
   "source": [
    "dmseloss(dict(c0=c0_rand, c1=c1_rand, c2=c2_rand), quad_continuum_model, continuum_wave_masked.compressed(), continuum_flux_true_masked.compressed())\n"
   ]
  },
  {
   "cell_type": "code",
   "execution_count": 23,
   "id": "db3c65c4-91d9-49d4-9774-20312c445dba",
   "metadata": {},
   "outputs": [
    {
     "data": {
      "application/vnd.jupyter.widget-view+json": {
       "model_id": "dedbcfeec9c54239ad2629b8e8010689",
       "version_major": 2,
       "version_minor": 0
      },
      "text/plain": [
       "  0%|          | 0/10000 [00:00<?, ?it/s]"
      ]
     },
     "metadata": {},
     "output_type": "display_data"
    }
   ],
   "source": [
    "losses, theta = model_optimization_loop(dict(c0=c0_rand, c1=c1_rand, c2=c2_rand),\n",
    "                                             quad_continuum_model, mseloss, dmseloss, \n",
    "                                        continuum_wave_masked.compressed(), continuum_flux_true_masked.compressed())"
   ]
  },
  {
   "cell_type": "code",
   "execution_count": 24,
   "id": "b9fdb033-a61b-4de6-91ea-54e41311e616",
   "metadata": {},
   "outputs": [
    {
     "data": {
      "image/png": "[encoded data removed]",
      "text/plain": [
       "<Figure size 640x480 with 1 Axes>"
      ]
     },
     "metadata": {},
     "output_type": "display_data"
    }
   ],
   "source": [
    "plt.plot(losses)\n",
    "plt.xlabel('iteration')\n",
    "plt.ylabel('mse')\n",
    "plt.show()"
   ]
  },
  {
   "cell_type": "code",
   "execution_count": 25,
   "id": "28e2eb46-1c28-4b26-9339-d7cf30ecf49a",
   "metadata": {},
   "outputs": [
    {
     "data": {
      "text/plain": [
       "{'c0': Array(5.40056773e-05, dtype=float64),\n",
       " 'c1': Array(4.78241421e-19, dtype=float64, weak_type=True),\n",
       " 'c2': Array(1.95223299e-16, dtype=float64, weak_type=True)}"
      ]
     },
     "execution_count": 25,
     "metadata": {},
     "output_type": "execute_result"
    }
   ],
   "source": [
    "theta"
   ]
  },
  {
   "cell_type": "code",
   "execution_count": 26,
   "id": "4ba20aa0-695b-4217-bb00-4afc54b7fe02",
   "metadata": {},
   "outputs": [],
   "source": [
    "continuum_flux_fit = quad_continuum_model(dict(c0=theta[\"c0\"], c1=theta[\"c1\"], c2=theta[\"c2\"]), continuum_wave_masked.compressed())"
   ]
  },
  {
   "cell_type": "code",
   "execution_count": 27,
   "id": "0f743cf5-1688-49b6-941a-8588aa768248",
   "metadata": {},
   "outputs": [],
   "source": [
    "continuum_flux_fit_interp = np.interp(continuum_wave, continuum_wave_masked.compressed(), continuum_flux_fit)"
   ]
  },
  {
   "cell_type": "code",
   "execution_count": 66,
   "id": "07337809-a0ea-4554-ac58-302c376c3bd5",
   "metadata": {},
   "outputs": [
    {
     "data": {
      "image/png": "[encoded data removed]",
      "text/plain": [
       "<Figure size 640x480 with 1 Axes>"
      ]
     },
     "metadata": {},
     "output_type": "display_data"
    }
   ],
   "source": [
    "fig, ax = plt.subplots(1, 1)\n",
    "__=ax.loglog()\n",
    "__=ax.plot(ssp_data.ssp_wave, sed_info.rest_sed, alpha=0.1, c='k')\n",
    "\n",
    "\n",
    "__=ax.axvline(halpha_line_lo, alpha=0.1, c='r', ls='--')\n",
    "__=ax.axvline(halpha_line_wave, label='Halpha', alpha=0.25, c='r')\n",
    "__=ax.axvline(halpha_line_hi, alpha=0.1, c='r', ls='--')\n",
    "\n",
    "\n",
    "\n",
    "\n",
    "__=ax.plot(continuum_wave_masked, continuum_flux_true_masked, alpha=0.75, ls='--', c='k', label='masked continuum')\n",
    "\n",
    "__=ax.scatter(continuum_wave_masked.compressed(), model_flux_rand, alpha=1, s=2, c='g', label='initial guess')\n",
    "\n",
    "\n",
    "__=ax.scatter(continuum_wave_masked.compressed(), continuum_flux_fit, alpha=1, s=2, c='orange', label='fit')\n",
    "\n",
    "#__=ax.scatter(continuum_wave, continuum_flux_fit_interp, alpha=1, s=0.1, c='r', label='fit (interpolated)')\n",
    "\n",
    "\n",
    "__=ax.set_xlim(6.4e3,6.75e3)\n",
    "__=ax.set_ylim(4e-5,3e-3)\n",
    "\n",
    "__=ax.set_xlabel('wavelength [\\u212b]')\n",
    "__=ax.set_ylabel('[L$_{\\u2609}$ / Hz]')\n",
    "\n",
    "plt.legend()\n",
    "plt.show()"
   ]
  },
  {
   "cell_type": "code",
   "execution_count": null,
   "id": "3ce9a6ac-7f4a-4308-9c2a-8833922b14ea",
   "metadata": {},
   "outputs": [],
   "source": []
  },
  {
   "cell_type": "code",
   "execution_count": 53,
   "id": "17baf3b8-cf71-48d7-851c-afa7e3c84bd7",
   "metadata": {},
   "outputs": [],
   "source": [
    "line_sel = (continuum_wave >= halpha_line_lo) & (continuum_wave <= halpha_line_hi)\n",
    "\n",
    "continuum_wave_line = continuum_wave[line_sel]\n",
    "line_Lsol = continuum_rest_sed[line_sel] - continuum_flux_fit_interp[line_sel]\n",
    "line_Lnu = line_Lsol * L_sun.cgs.value"
   ]
  },
  {
   "cell_type": "code",
   "execution_count": 69,
   "id": "4e86e525-3bcd-423b-b9e0-d69f2b4fd962",
   "metadata": {},
   "outputs": [
    {
     "data": {
      "text/plain": [
       "np.float64(3.828e+33)"
      ]
     },
     "execution_count": 69,
     "metadata": {},
     "output_type": "execute_result"
    }
   ],
   "source": [
    "L_sun.cgs.value"
   ]
  },
  {
   "cell_type": "code",
   "execution_count": 67,
   "id": "c89d810b-8fe3-4144-a080-bd737e4b2038",
   "metadata": {},
   "outputs": [
    {
     "data": {
      "image/png": "[encoded data removed]",
      "text/plain": [
       "<Figure size 640x480 with 1 Axes>"
      ]
     },
     "metadata": {},
     "output_type": "display_data"
    }
   ],
   "source": [
    "fig, ax = plt.subplots(1, 1)\n",
    "__=ax.loglog()\n",
    "__=ax.plot(ssp_data.ssp_wave, sed_info.rest_sed, alpha=0.1, c='k')\n",
    "\n",
    "\n",
    "__=ax.axvline(halpha_line_lo, alpha=0.1, c='r', ls='--')\n",
    "__=ax.axvline(halpha_line_wave, label='Halpha', alpha=0.25, c='r')\n",
    "__=ax.axvline(halpha_line_hi, alpha=0.1, c='r', ls='--')\n",
    "\n",
    "__=ax.plot(continuum_wave_line, continuum_rest_sed[line_sel], alpha=1, c='g', label='SED')\n",
    "__=ax.plot(continuum_wave_line, continuum_flux_fit_interp[line_sel], alpha=1, c='orange', label='continuum')\n",
    "\n",
    "\n",
    "__=ax.set_xlim(6.53e3,6.6e3)\n",
    "__=ax.set_ylim(4e-5,3e-3)\n",
    "\n",
    "__=ax.set_xlabel('wavelength [\\u212b]')\n",
    "__=ax.set_ylabel('[L$_{\\u2609}$ / Hz]')\n",
    "\n",
    "plt.legend()\n",
    "plt.show()"
   ]
  },
  {
   "cell_type": "code",
   "execution_count": 61,
   "id": "8651e64b-7a90-45c5-9ed9-bb23e449019f",
   "metadata": {},
   "outputs": [],
   "source": [
    "continuum_wave_line_AA = continuum_wave_line * u.AA\n",
    "continuum_freq_line_Hz = continuum_wave_line_AA.to(u.Hz, equivalencies=u.spectral()).value"
   ]
  },
  {
   "cell_type": "code",
   "execution_count": 62,
   "id": "b236575f-80d3-4bf6-ba86-45b04c71fc60",
   "metadata": {},
   "outputs": [
    {
     "data": {
      "text/plain": [
       "array([4.57250876e+14, 4.57188110e+14, 4.57125355e+14, 4.57062625e+14,\n",
       "       4.56999869e+14, 4.56937173e+14, 4.56874494e+14, 4.56811825e+14,\n",
       "       4.56749180e+14, 4.56686510e+14, 4.56623900e+14, 4.56561300e+14,\n",
       "       4.56498724e+14, 4.56436165e+14, 4.56373581e+14, 4.56311056e+14,\n",
       "       4.56248542e+14, 4.56186051e+14])"
      ]
     },
     "execution_count": 62,
     "metadata": {},
     "output_type": "execute_result"
    }
   ],
   "source": [
    "continuum_freq_line_Hz"
   ]
  },
  {
   "cell_type": "code",
   "execution_count": 63,
   "id": "88279e11-a07e-4cb1-abd0-e86edc7c913b",
   "metadata": {},
   "outputs": [
    {
     "data": {
      "image/png": "[encoded data removed]",
      "text/plain": [
       "<Figure size 640x480 with 1 Axes>"
      ]
     },
     "metadata": {},
     "output_type": "display_data"
    }
   ],
   "source": [
    "plt.plot(continuum_freq_line_Hz, line_Lnu, c='r', \n",
    "         label='H-alpha')\n",
    "\n",
    "plt.xlabel('frequency [Hz]')\n",
    "plt.ylabel('L$_{\\u03bd}$ [erg / s / Hz]')\n",
    "plt.legend()\n",
    "plt.show()"
   ]
  },
  {
   "cell_type": "code",
   "execution_count": 64,
   "id": "bfc68972-268d-4aa6-a921-34006b5d80c1",
   "metadata": {},
   "outputs": [],
   "source": [
    "line_L_cgs = np.trapezoid(line_Lnu, continuum_freq_line_Hz)"
   ]
  },
  {
   "cell_type": "code",
   "execution_count": 65,
   "id": "c2f8f47a-88a8-4cb3-95bd-9ffc75418ec6",
   "metadata": {},
   "outputs": [
    {
     "data": {
      "text/plain": [
       "np.float64(-1.2045208713225068e+42)"
      ]
     },
     "execution_count": 65,
     "metadata": {},
     "output_type": "execute_result"
    }
   ],
   "source": [
    "line_L_cgs"
   ]
  },
  {
   "cell_type": "code",
   "execution_count": 76,
   "id": "e017e0c8-d922-4cd8-b0d5-f8df8dd39439",
   "metadata": {},
   "outputs": [],
   "source": [
    "d = 10 * u.pc\n",
    "\t"
   ]
  },
  {
   "cell_type": "code",
   "execution_count": 80,
   "id": "f645a1c0-6feb-4a18-8e4c-446dd2049556",
   "metadata": {},
   "outputs": [
    {
     "data": {
      "text/plain": [
       "'/Users/kumail/github/diff_warmup'"
      ]
     },
     "execution_count": 80,
     "metadata": {},
     "output_type": "execute_result"
    }
   ],
   "source": [
    "pwd\n"
   ]
  },
  {
   "cell_type": "code",
   "execution_count": 79,
   "id": "f988082f-3566-4abf-87f8-600f77309d44",
   "metadata": {},
   "outputs": [
    {
     "data": {
      "text/plain": [
       "np.float64(3.085677581491367e+19)"
      ]
     },
     "execution_count": 79,
     "metadata": {},
     "output_type": "execute_result"
    }
   ],
   "source": [
    "d.to(u.cm).value"
   ]
  },
  {
   "cell_type": "code",
   "execution_count": null,
   "id": "e627cef8-fc17-4cb9-b4c8-6989b3b31f49",
   "metadata": {},
   "outputs": [],
   "source": []
  }
 ],
 "metadata": {
  "kernelspec": {
   "display_name": "Python 3 (ipykernel)",
   "language": "python",
   "name": "python3"
  },
  "language_info": {
   "codemirror_mode": {
    "name": "ipython",
    "version": 3
   },
   "file_extension": ".py",
   "mimetype": "text/x-python",
   "name": "python",
   "nbconvert_exporter": "python",
   "pygments_lexer": "ipython3",
   "version": "3.13.0"
  }
 },
 "nbformat": 4,
 "nbformat_minor": 5
}
