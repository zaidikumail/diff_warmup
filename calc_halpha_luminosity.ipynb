{
 "cells": [
  {
   "cell_type": "code",
   "execution_count": null,
   "id": "91325e6b-e659-4a9d-af7a-744c4d18f633",
   "metadata": {},
   "outputs": [],
   "source": [
    "import emission_line_luminosity\n",
    "from emission_line_luminosity import get_emission_line_luminosity\n",
    "from emission_line_luminosity import _get_clipped_sed\n",
    "from emission_line_luminosity import _quad_continuum_model\n",
    "import dsps\n",
    "from dsps import load_ssp_templates\n",
    "from dsps.cosmology import age_at_z, DEFAULT_COSMOLOGY\n",
    "from dsps import calc_rest_sed_sfh_table_lognormal_mdf\n",
    "from dsps import calc_rest_sed_sfh_table_met_table\n",
    "import numpy as np\n",
    "from matplotlib import pyplot as plt\n",
    "\n",
    "from jax import jit as jjit\n",
    "from jax import grad\n",
    "import jax.numpy as jnp\n",
    "from jax import vmap \n",
    "from tqdm.autonotebook import tqdm\n",
    "from astropy.constants import L_sun\n",
    "import astropy.constants as const\n",
    "import matplotlib.cm as cm\n",
    "\n",
    "import astropy.units as u\n",
    "import numpy.ma as ma\n",
    "import h5py"
   ]
  },
  {
   "cell_type": "code",
   "execution_count": null,
   "id": "8ea32056-3a93-4751-bdd1-0d697e9ad616",
   "metadata": {},
   "outputs": [],
   "source": [
    "# ! curl https://portal.nersc.gov/project/hacc/aphearin/DSPS_data/ssp_data_fsps_v3.2_lgmet_age.h5 > tempdata.h5"
   ]
  },
  {
   "cell_type": "code",
   "execution_count": null,
   "id": "77c358a8-a419-44ea-9b10-19a456364977",
   "metadata": {},
   "outputs": [],
   "source": [
    "ssp_data = load_ssp_templates(fn='./workdir/tempdata.h5')\n",
    "\n",
    "print(ssp_data._fields)\n",
    "\n",
    "print('\\nssp_lgmet.shape = {}'.format(ssp_data.ssp_lgmet.shape))\n",
    "print('ssp_lg_age_gyr.shape = {}'.format(ssp_data.ssp_lg_age_gyr.shape))\n",
    "print('ssp_wave.shape = {}'.format(ssp_data.ssp_wave.shape))\n",
    "print('ssp_flux.shape = {}'.format(ssp_data.ssp_flux.shape))"
   ]
  },
  {
   "cell_type": "code",
   "execution_count": null,
   "id": "921f10be-e170-4e3f-a9d4-562ced939b65",
   "metadata": {},
   "outputs": [],
   "source": [
    "ssp_halpha_line_luminosity = np.zeros((ssp_data.ssp_lgmet.shape[0], ssp_data.ssp_lg_age_gyr.shape[0]))"
   ]
  },
  {
   "cell_type": "code",
   "execution_count": null,
   "id": "78f65159-d22e-46f3-8a06-434a960e1088",
   "metadata": {},
   "outputs": [],
   "source": [
    "ssp_halpha_line_luminosity.shape"
   ]
  },
  {
   "cell_type": "code",
   "execution_count": null,
   "id": "684808c0-f9f4-4101-a5d6-d41b1efd19b8",
   "metadata": {},
   "outputs": [],
   "source": [
    "for met in range(0, ssp_halpha_line_luminosity.shape[0]):\n",
    "    for age in range(0, ssp_halpha_line_luminosity.shape[1]):\n",
    "        plt.loglog(ssp_data.ssp_wave, ssp_data.ssp_flux[met][age])\n",
    "plt.show()"
   ]
  },
  {
   "cell_type": "markdown",
   "id": "8ade982b-0998-4a72-9dfa-f895322e0ee8",
   "metadata": {},
   "source": [
    "## Calculate H$\\alpha$ line luminosty for the SSP grid (metallicity, age) : L$_{H\\alpha}$ [Lsun/Msun]"
   ]
  },
  {
   "cell_type": "code",
   "execution_count": null,
   "id": "3287a392-c726-45b2-9cb6-e92c18e3fcf6",
   "metadata": {},
   "outputs": [],
   "source": [
    "continuum_fit_lo_lo = 6480\n",
    "continuum_fit_lo_hi = 6530\n",
    "continuum_fit_hi_lo = 6600\n",
    "continuum_fit_hi_hi = 6650\n",
    "\n",
    "halpha_line_center = 6562.8\n",
    "halpha_line_lo = halpha_line_center - 2\n",
    "halpha_line_hi = halpha_line_center + 6"
   ]
  },
  {
   "cell_type": "code",
   "execution_count": null,
   "id": "54b01f88-3b6e-4aa8-ab34-e7a05ebae454",
   "metadata": {
    "scrolled": true
   },
   "outputs": [],
   "source": [
    "for met in range(0, ssp_halpha_line_luminosity.shape[0]):\n",
    "    for age in range(0, ssp_halpha_line_luminosity.shape[1]):\n",
    "        losses, theta, sed_dict = get_emission_line_luminosity(ssp_data.ssp_wave,\n",
    "                                                               ssp_data.ssp_flux[met][age],\n",
    "                                                               continuum_fit_lo_lo,\n",
    "                                                               continuum_fit_lo_hi,\n",
    "                                                               continuum_fit_hi_lo,\n",
    "                                                               continuum_fit_hi_hi,\n",
    "                                                               halpha_line_lo,\n",
    "                                                               halpha_line_hi\n",
    "                                                              )\n",
    "        ssp_halpha_line_luminosity[met][age] = sed_dict['line_integrated_luminosity']"
   ]
  },
  {
   "cell_type": "code",
   "execution_count": null,
   "id": "1c44c3c1-6e9e-47c5-9707-e309326f3b13",
   "metadata": {},
   "outputs": [],
   "source": [
    "# with h5py.File(\"./workdir/tempdata.h5\", \"w\") as f:\n",
    "#     if \"ssp_halpha_line_luminosity\" not in f:\n",
    "#         f.create_dataset(\"ssp_halpha_line_luminosity\", data=ssp_halpha_line_luminosity)"
   ]
  },
  {
   "cell_type": "code",
   "execution_count": null,
   "id": "ab8073b2-85cf-4372-a063-51396c4ae632",
   "metadata": {},
   "outputs": [],
   "source": [
    "with h5py.File(\"./workdir/halpha.h5\", \"r\") as f:\n",
    "    print(\"Keys in file:\", list(f.keys()))   # list top-level groups/datasets\n",
    "    dset = f['ssp_halpha_line_luminosity']\n",
    "    ssp_halpha_line_luminosity = dset[...]    "
   ]
  },
  {
   "cell_type": "code",
   "execution_count": null,
   "id": "36bd4209-bc0e-48b9-9cd4-c56053941826",
   "metadata": {},
   "outputs": [],
   "source": [
    "# np.allclose(ssp_halpha_line_luminosity_read, ssp_halpha_line_luminosity)"
   ]
  },
  {
   "cell_type": "code",
   "execution_count": null,
   "id": "6734ecea-b8cb-437f-a483-42f15cba87bf",
   "metadata": {},
   "outputs": [],
   "source": [
    "# ssp_halpha_line_luminosity.shape, ssp_halpha_line_luminosity.dtype"
   ]
  },
  {
   "cell_type": "code",
   "execution_count": null,
   "id": "d8324357-9b0a-463b-abe2-5c669c7fbc20",
   "metadata": {},
   "outputs": [],
   "source": [
    "colors=cm.coolwarm(np.linspace(1, 0, ssp_halpha_line_luminosity.shape[0])) # red first"
   ]
  },
  {
   "cell_type": "code",
   "execution_count": null,
   "id": "935253ce-4542-4445-b3b0-fb4f2fb6ccf7",
   "metadata": {},
   "outputs": [],
   "source": [
    "for met in range(0, ssp_halpha_line_luminosity.shape[0]):\n",
    "    metallicity = str(np.round(ssp_data.ssp_lgmet[met],1))\n",
    "    x = (10**ssp_data.ssp_lg_age_gyr)*1e3\n",
    "    y = ssp_halpha_line_luminosity[met] #* L_sun.cgs.value * 1e9\n",
    "    label = 'log$_{10}$ (Z/Z$_{\\u2609}$): '+metallicity\n",
    "    \n",
    "    plt.plot(x,y, label=label, c=colors[met])\n",
    "plt.ylabel('L$_{H\\u03b1}$ [L$_{\\u2609}$ / M$_{\\u2609}$]')\n",
    "plt.xscale('log')\n",
    "plt.xlabel('Age [Myr]')\n",
    "#plt.xlim(8e-2,1e5)\n",
    "plt.legend()\n",
    "plt.savefig('./workdir/figures/Age_v_Lhalpha.pdf')\n",
    "\n",
    "plt.show()"
   ]
  },
  {
   "cell_type": "code",
   "execution_count": null,
   "id": "a666354c-667a-40bb-856f-cec032b57b1e",
   "metadata": {},
   "outputs": [],
   "source": [
    "pwd"
   ]
  },
  {
   "cell_type": "code",
   "execution_count": null,
   "id": "89f2a1f9-6bdc-4972-883f-6631e97cdcc6",
   "metadata": {},
   "outputs": [],
   "source": []
  },
  {
   "cell_type": "code",
   "execution_count": null,
   "id": "84c7f8e9-ff1a-4535-8e10-e6e0253bf09f",
   "metadata": {},
   "outputs": [],
   "source": []
  },
  {
   "cell_type": "code",
   "execution_count": null,
   "id": "e6f88705-2f4e-48fe-87c9-10d019174f4c",
   "metadata": {},
   "outputs": [],
   "source": []
  }
 ],
 "metadata": {
  "kernelspec": {
   "display_name": "Python 3 (ipykernel)",
   "language": "python",
   "name": "python3"
  },
  "language_info": {
   "codemirror_mode": {
    "name": "ipython",
    "version": 3
   },
   "file_extension": ".py",
   "mimetype": "text/x-python",
   "name": "python",
   "nbconvert_exporter": "python",
   "pygments_lexer": "ipython3",
   "version": "3.13.0"
  }
 },
 "nbformat": 4,
 "nbformat_minor": 5
}
